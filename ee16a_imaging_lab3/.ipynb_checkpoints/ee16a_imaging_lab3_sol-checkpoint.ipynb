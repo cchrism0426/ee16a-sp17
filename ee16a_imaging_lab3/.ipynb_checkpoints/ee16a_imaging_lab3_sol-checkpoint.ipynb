{
 "cells": [
  {
   "cell_type": "markdown",
   "metadata": {},
   "source": [
    "# Imaging Lab 3: Multipixel Scanning\n",
    "\n",
    "### EECS 16A: Designing Information Devices and Systems I, Spring 2017"
   ]
  },
  {
   "cell_type": "markdown",
   "metadata": {},
   "source": [
    "**Name 1**:\n",
    "\n",
    "**Login**: ee16a-\n",
    "\n",
    "\n",
    "**Name 2**:\n",
    "\n",
    "**Login**: ee16a-"
   ]
  },
  {
   "cell_type": "markdown",
   "metadata": {},
   "source": [
    "\n",
    "## Table of Contents\n",
    "\n",
    "* [Task1: Setup](#task1a)\n",
    "    * [Light Sensor](#task1a)\n",
    "    * [Launchpad Code](#task1b)\n",
    "    * [Projector](#task1c)\n",
    "* [Task 2: Multipixel Scanning](#task2a)\n",
    "    * [Multipixel Scanning](#task2a)\n",
    "    * [Scanning Matrix](#task2b)\n",
    "* [Task 3: Imaging Simulator](#task3)\n",
    "* [Task 4: Real Imaging](#task4)"
   ]
  },
  {
   "cell_type": "markdown",
   "metadata": {},
   "source": [
    "# Overview\n",
    "This week, you will experiment with a method to try to produce better images: scanning multiple pixels at a time. As with the last lab, you will begin by checking that the sensing circuit works and that the projector is correctly connected to the computer. Next, you will write code to generate the multipixel pattern that the projector will use to scan through the image. Finally you will use your code and scanning matrix to image a drawing!"
   ]
  },
  {
   "cell_type": "code",
   "execution_count": 2,
   "metadata": {
    "collapsed": false
   },
   "outputs": [],
   "source": [
    "# Import Necessary Libraries\n",
    "from  pylab import *\n",
    "import struct\n",
    "import numpy as np\n",
    "from scipy import random\n",
    "import time\n",
    "import scipy\n",
    "from scipy import linalg\n",
    "import serial\n",
    "\n",
    "%matplotlib inline"
   ]
  },
  {
   "cell_type": "markdown",
   "metadata": {},
   "source": [
    "<a id='task1a'></a>\n",
    "## <span style=\"color:blue\">Task 1a: Test the Imaging Setup</span>\n",
    "\n",
    "When dealing with a complicated system, it is often useful to perform a \"sanity check\" to make sure that a simpler subset of the system is working as expected, before adding more complexity. We will begin this lab by making sure that the single pixel scan (from Lab 2) works. The circuit diagram and setup instructions from the previous lab are provided below for reference.\n",
    "<br/>\n",
    "\n",
    "Remember to use the **100 kOhm resistor (Brown-Black-Yellow-Gold) and the 0.1 uF capacitor (labeled 104).**\n",
    "Build your ambient light circuit as you did in Imaging Labs 1 & 2:\n",
    "<center>\n",
    "<img src=\"http://i.imgur.com/ytIaKj8.png\" align=\"center\" style=\"height:200px\"/>\n",
    "</center>\n",
    "<a id='task1b'></a>\n",
    "\n",
    "## <span style=\"color:blue\">Task 1b: Upload Code to the Launchpad</span>\n",
    "**<span style=\"color:red\"> Upload the `AnalogReadSerial` program to your Launchpad. This is located in the lab folder. To verify  that the program is working, type a '6' into the serial monitor. You should see a reading from the ambient light sensor appear. Make sure this value changes with changing levels of light. </span>**\n",
    "\n",
    "<a id='task1c'></a>\n",
    "## <span style=\"color:blue\">Task 1c: Projector Setup</span>\n",
    "Note: If you power off the projector, it will reset all the settings! Adjust the settings after you put the projector in the box.\n",
    "\n",
    "\n",
    "1. Disconnect the USB cable from the MSP\n",
    "2. Take the stand out of the box.\n",
    "3. Place the completed circuit and Launchpad in the stand.\n",
    "4. Place the stand back into the cardboard station box.\n",
    "5. Wire the USB, Projector Power, and Mini-HDMI through the holes of the box\n",
    "6. Mini-HDMI should be on your computer or behind the monitor\n",
    "7. Connect the USB cable to the Launchpad.\n",
    "8. Connect the HDMI and power cables to the projector.\n",
    "9. Turn on the projector by holding down the power button (Thinner button that is not an arrow)\n",
    "10. Find an adjustable wheel on the side of the project to adjust focus\n",
    "11. Use the left/right arrows to select the **Settings** options (gears icon).\n",
    "12. Change picture mode from standard to user\n",
    "13. Move cursor down to **Contrast** and use right arrow to adjust contrast to `100`\n",
    "14. Move cursor down to **Brightness** and use left arrow to adjust brightness to `0`\n",
    "15. Use the Back Arrow button to return to main menu\n",
    "17. Using right/left arrows, select **HDMI** (takes a few seconds)\n",
    "18. You should see the Windows 10 desktop\n",
    "19. If you see the Windows 10 Taskbar at the bottom of the projected screen, take the following precautions:\n",
    "    1. Hit Windows key and type **Settings**\n",
    "    2. Click on the **Personalization** icon\n",
    "    3. Click on **Taskbar** on the left side\n",
    "    4. Under **Multiple Displays** section, turn **Show taskbar on all displays** off.\n",
    "20. Look at the serial monitor in Energia to confirm the Launchpad is connected by entering `6`.\n",
    "\n",
    "\n",
    "**<span style=\"color:red\">Confirm that you are able to see a blank Windows Desktop on the projector screen.</span>**\n"
   ]
  },
  {
   "cell_type": "code",
   "execution_count": null,
   "metadata": {
    "collapsed": false
   },
   "outputs": [],
   "source": [
    "# TODO: Create the matrix with ones along the diagonal used to scan 30x40 images from Imaging Lab 2 (exact same as last week)\n",
    "H = np.eye(30*40) # YOUR CODE HERE\n",
    "\n",
    "# Save the mask for use with the projector\n",
    "np.save(\"imaging_mask.npy\", H)\n"
   ]
  },
  {
   "cell_type": "markdown",
   "metadata": {},
   "source": [
    "**<span style=\"color:red\">After running the above code to create the imaging mask, close Energia and run the command `python capture_image.py -f 40` in a command line application just like Lab 2. Make sure you are able to produce an image before moving on.</span>**"
   ]
  },
  {
   "cell_type": "markdown",
   "metadata": {},
   "source": [
    "**<span style=\"color:red\"> Complete and run the code (same as Lab 2) below to look at your scanned card.</span>**\n"
   ]
  },
  {
   "cell_type": "code",
   "execution_count": null,
   "metadata": {
    "collapsed": false
   },
   "outputs": [],
   "source": [
    "# WARNING!! If you run multiple scans (by pressing enter at the end of a scan) the sensor_readings0.npy file \n",
    "# will increment to sensor_readings1.npy, sensor_readings2.npy etc Make sure you read in the correct file. \n",
    "\n",
    "sr = np.load('data/sensor_readings0.npy') #what are the dimensions?\n",
    "\n",
    "# TODO: Create the image vector from H and sr\n",
    "iv = sr # YOUR CODE HERE. Hint: Because H is a special matrix, technically you do not need to perform any matrix operations\n",
    "img = iv.reshape((30,40)) # YOUR CODE HERE\n",
    "\n",
    "plt.figure(figsize=(8,8))\n",
    "plt.imshow(img, cmap='gray')\n",
    "plt.axis('off')"
   ]
  },
  {
   "cell_type": "markdown",
   "metadata": {},
   "source": [
    "<a id='task2a'></a>\n",
    "## <span style=\"color:blue\">Task 2a: Multipixel Scanning</span>\n",
    "In the previous lab, each pixel was illuminated only once. This system is not very robust because an error in any single measurement will be visible in the final image. In other words, if we are taking a reading of the first pixel, and the projector flickers or we open the box, we have only corrupt information about the first pixel and we cannot recover it.  \n",
    "\n",
    "To address this, we will illuminate each pixel multiple times. This will effectively give us multiple chances to extract information from each pixel. To begin, we will focus on a 2x2 pixel section of the image. As we did last week, we will start by creating a small version, then scale this up to scan a full image (30x40 pixels). "
   ]
  },
  {
   "cell_type": "markdown",
   "metadata": {},
   "source": [
    "## Multipixel Scanning Matrix\n",
    "Recall that we can define our imaging system by the following mathematical model:\n",
    "$$\\vec{i} * H = \\vec{s}$$ Where $\\vec{i}$ is our image in vector form, $H$ is the imaging mask, and $\\vec{s}$ is the sensor reading vector. Usually, $H$ is selected so that $\\vec{i}$ and $\\vec{s}$ are equal. \n",
    "\n",
    "Last week we explored scanning our image with a single pixel, where each each column of our imaging mask, H, corresponded to one scan of our image. This meant if our image had $n$ pixels, $H$ had $n$ columns, and our image was therefore scanned exactly $n$ times (once per pixel). So, for a 2x2 image, H would need exactly 4 columns (one for each mask) and we would make 4 scans.\n",
    "\n",
    "Our goal this week is to reconstruct an $n$ pixel image by illuminating certain pixels more than once, while only scanning the image $n$ times, just like in single pixel scanning. But how can we illuminate every pixel in a 2x2 image more than once while using only 4 scans and 4 corresponding imaging masks? The solution is to illuminate more than one pixel per mask, which motivates the question, how does one choose which pixels to illuminate in each mask?\n",
    "\n",
    "Begin by assigning each gray-scale value in a 2x2 section to a variable, $iv_{ij}$, where i is the row and j is the column. The matrix corresponding to the 2x2 image will look like this:\n",
    "$\\begin{bmatrix} iv_{00} & iv_{01} \\\\ iv_{10} & iv_{11} \\end{bmatrix}$. The vector corresponding to the 2x2 image will be: $\\begin{bmatrix} iv_{00} & iv_{01} & iv_{10} & iv_{11} \\end{bmatrix}$\n",
    "\n",
    "**To help your understanding, this document will use an Example System of Equations to show the relationship between the system of linear equations, masking matrix MH, and the masks. The Example System of Equations is shown below:**\n",
    "<br/>\n",
    "<br/>\n",
    "<center>\n",
    "**Example System of Equations**\n",
    "</center>\n",
    "\n",
    "$$iv_{00} = sr_1$$\n",
    "$$iv_{00} + iv_{01} = sr_2$$\n",
    "$$iv_{00} + iv_{10} = sr_3$$\n",
    "$$iv_{01} + iv_{10} + iv_{11} = sr_4$$\n",
    "<br/>\n",
    "**<span style=\"color:red\">*IMPORTANT* The `Lab3 System of Equations` and the `Example System of Equations` are not at all related. Use the Lab3 System of Equations for all parts of the lab. Use the Example System of Equations as a reference.</span>**\n",
    "\n",
    "How would you represent these equations in terms of a matrix multiplication? Remember, the image vector and sensor vector are both 1D vectors, but the imaging mask should be a matrix. Also recall that we reshape columns of the masking matrix into the masks themselves. That is, the first column of the masking matrix will be reshaped into the first mask.  \n",
    "\n",
    "<center>\n",
    "**Imaging Mask for Example System of Equations**\n",
    "<img src=\"http://www-inst.eecs.berkeley.edu/~ee16a/sp15/Labs/imaging/nb_img/sample_4x4.png\" align=\"center\" style=\"height:200px\" />\n",
    "</center>\n",
    "\n",
    "To make sense of this matrix, it is helpful to look at each mask individually.\n",
    "<center>\n",
    "**Individual Masks for the Example System of Equations**\n",
    "<img src=\"http://i.imgur.com/oTA4YhZ.png\" align=\"center\" style=\"height:200px\" />\n",
    "</center>\n",
    "\n",
    "Now we see that each mask represents a single equation in the system of equations, where each term on the left hand side of an equation has a corresponding \"on\" or white element in the mask, and all other elements are \"off\" or black. For example, looking at the first equation we see the only term on the left hand side is $iv_{00}$, which is the upper left pixel in the 2x2 image. As a result the upper left pixel in Mask 1 is turned \"on.\""
   ]
  },
  {
   "cell_type": "markdown",
   "metadata": {},
   "source": [
    "Now that we have an understanding of how to approach multipixel scanning, let's test out our approach on a new set of equations. Representing the sensor reading from the kth mask by $sr_k$, we write the following system of equations. **This will be the system we deal with for the remainder of the lab:**\n",
    "<center>\n",
    "**Lab3 System of Equations**\n",
    "\n",
    "$$iv_{00} + iv_{01} + iv_{10} = sr_1$$\n",
    "$$iv_{00} + iv_{11} = sr_2$$\n",
    "$$iv_{01} + iv_{11} = sr_3$$\n",
    "$$iv_{10} + iv_{11} = sr_4$$\n",
    "<br/>\n",
    "\n",
    "**<span style=\"color:red\">Create the matrix MH that represents the series of linear equations above.</span>**"
   ]
  },
  {
   "cell_type": "code",
   "execution_count": 3,
   "metadata": {
    "collapsed": false
   },
   "outputs": [
    {
     "data": {
      "image/png": "[encoded data removed]",
      "text/plain": [
       "<matplotlib.figure.Figure at 0x110b71358>"
      ]
     },
     "metadata": {},
     "output_type": "display_data"
    }
   ],
   "source": [
    "# TODO: Create imaging mask for the Lab3 system of equations, MH (dimensions should be 4x4)\n",
    "MH = np.array([[1,1,1,0],[1,0,0,1],[0,1,0,1],[0,0,1,1]]).T # YOUR CODE HERE\n",
    "\n",
    "plt.imshow(MH, cmap='gray', interpolation='nearest')\n",
    "plt.show()"
   ]
  },
  {
   "cell_type": "markdown",
   "metadata": {},
   "source": [
    "As stated above, we will reshape columns of the masking matrix, MH, into the individual masks themselves. \n",
    "<br/>\n",
    "**<span style=\"color:red\">Iterate through the 4 individual masks and display them.</span>**\n",
    "<br/>\n",
    "Hint: Reference your code from last week where you checked to make sure the scanning matrix was producing the correct pattern by displaying each of the 25 individual masks. \n"
   ]
  },
  {
   "cell_type": "code",
   "execution_count": 4,
   "metadata": {
    "collapsed": false,
    "scrolled": true
   },
   "outputs": [
    {
     "data": {
      "image/png": "[encoded data removed]",
      "text/plain": [
       "<matplotlib.figure.Figure at 0x11320f6a0>"
      ]
     },
     "metadata": {},
     "output_type": "display_data"
    }
   ],
   "source": [
    "# Iterate through different masks\n",
    "\n",
    "plt.figure(figsize=(18,12)).suptitle('Individual Masks for Lab3 System of Equations', fontsize=22)\n",
    "\n",
    "# Use this for-loop to iterate through the columns of MH.\n",
    "for j in range(0,4):\n",
    "    subplot(4,4,j+1)\n",
    "    \n",
    "    # TODO: Reshape each column\n",
    "    proj = np.reshape(MH[:,j], (2,2))# YOUR CODE HERE\n",
    "  \n",
    "    plt.imshow(proj,cmap='gray', interpolation='nearest');\n",
    "    title('Mask ' + str(j+1))\n",
    "plt.show()"
   ]
  },
  {
   "cell_type": "markdown",
   "metadata": {},
   "source": [
    "<a id='task2b'></a>\n",
    "## <span style=\"color:blue\">Task 2b: Scaling up the Scanning Matrix</span>\n",
    "\n",
    "We want to scan through our entire image in chunks of 2x2 pixels. To do this, we can extrapolate from our MH matrix created above. \n",
    "\n",
    "**<span style=\"color:red\">To scan a 6x8 image, what dimensions must our scanning matrix have? What does the number of rows correspond to? What does the number of columns correspond to?</span>**"
   ]
  },
  {
   "cell_type": "markdown",
   "metadata": {},
   "source": [
    "H = 48x48.  # Rows = number of pixels in image, # Cols = number of masks/scans "
   ]
  },
  {
   "cell_type": "markdown",
   "metadata": {},
   "source": [
    "Design the **first 4 columns** of the scanning matrix for the 2x2 pixel area at the top left of a **6x8 image**.  Using the MH matrix for the **Lab3 System of Equations**, this means the 1st mask will illuminate 3 pixels, the 2nd mask will illuminate 2 pixels, the 3rd mask will illuminate 2 pixels, and the 4th mask will illuminate 2 pixels. \n",
    "\n",
    "**<span style=\"color:red\">Design a 48x4 matrix that represents the first 4 columns of the imaging matrix. </span>** Name it **``Mtx_temp``.**\n",
    "\n",
    "*Draw out what Mtx_temp should look like and think about the goal in terms of matrix multiplication. There should be very few pixels in each column that are non-zero. Think about how you should index into Mtx_temp to change those values.*"
   ]
  },
  {
   "cell_type": "code",
   "execution_count": 7,
   "metadata": {
    "collapsed": false
   },
   "outputs": [
    {
     "data": {
      "image/png": "[encoded data removed]",
      "text/plain": [
       "<matplotlib.figure.Figure at 0x113b8b3c8>"
      ]
     },
     "metadata": {},
     "output_type": "display_data"
    }
   ],
   "source": [
    "# TODO: Set the first 4 columns of Mtx_temp, a matrix used\n",
    "# to reconstruct images of size M by N (in this case 6x8)\n",
    "M = 6\n",
    "N = 8\n",
    "\n",
    "Mtx_temp = np.zeros((M*N,4)) # YOUR CODE HERE\n",
    "\n",
    "#first mask\n",
    "Mtx_temp[0,0] = 1\n",
    "Mtx_temp[1,0] = 1\n",
    "Mtx_temp[N,0] = 1\n",
    "\n",
    "#second mask\n",
    "Mtx_temp[0,1] = 1\n",
    "Mtx_temp[N+1,1] = 1\n",
    "\n",
    "#third mask\n",
    "Mtx_temp[1,2] = 1\n",
    "Mtx_temp[N+1,2] = 1\n",
    "\n",
    "#fourth mask\n",
    "Mtx_temp[N,3] = 1\n",
    "Mtx_temp[N+1,3] = 1\n",
    "\n",
    "plt.imshow(Mtx_temp, cmap='gray', interpolation='nearest')\n",
    "plt.axis('off')\n",
    "plt.show()"
   ]
  },
  {
   "cell_type": "markdown",
   "metadata": {},
   "source": [
    "**<span style=\"color:red\">\n",
    "Plot the 4 different masks (these should be 6x8 images). </span>** Do they make sense? Adjust **``Mtx_temp``** if needed.\n",
    "<br/>\n",
    "<!--<center>\n",
    "**Example System of Equations**\n",
    "<img src=\"http://inst.eecs.berkeley.edu/~ee16a/images/imaging_img/Example_masks.JPG\" align=\"center\" style=\"height:200px\" />\n",
    "</center>-->"
   ]
  },
  {
   "cell_type": "code",
   "execution_count": 8,
   "metadata": {
    "collapsed": false
   },
   "outputs": [
    {
     "data": {
      "image/png": "[encoded data removed]",
      "text/plain": [
       "<matplotlib.figure.Figure at 0x113bee470>"
      ]
     },
     "metadata": {},
     "output_type": "display_data"
    }
   ],
   "source": [
    "# TODO: Plot the first 4 masks for a 6x8 iamge.\n",
    "\n",
    "figure(figsize=(18,12)).suptitle('Lab3 System of Equations', fontsize=22)\n",
    "\n",
    "# Use this loop to iterate through the columns of Mtx_temp\n",
    "for j in range(0,4):\n",
    "    plt.subplot(4,4,j+1)\n",
    "    \n",
    "    # TODO: Convert a column of Mtx_temp into a 6x8 image \n",
    "    proj =  np.reshape(Mtx_temp[:,j], (6,8))  # YOUR CODE HERE\n",
    "    \n",
    "    plt.imshow(proj,cmap='gray', interpolation='nearest');\n",
    "    title('Mask ' + str(j+1))\n",
    "plt.show()"
   ]
  },
  {
   "cell_type": "markdown",
   "metadata": {},
   "source": [
    "**<span style=\"color:red\">\n",
    "Run the code below to shift and repeat the four columns of Mtx_temp across the entire matrix H. This will create the full 48x48 scanning matrix. </span>** \n",
    "\n",
    "The code will also plot which pixels will be illuminated with each mask, and you can check if your ``Mtx_temp`` was correct!\n"
   ]
  },
  {
   "cell_type": "code",
   "execution_count": 11,
   "metadata": {
    "collapsed": false
   },
   "outputs": [
    {
     "data": {
      "image/png": "[encoded data removed]",
      "text/plain": [
       "<matplotlib.figure.Figure at 0x113bb3710>"
      ]
     },
     "metadata": {},
     "output_type": "display_data"
    }
   ],
   "source": [
    "# Creates matrix H by extending the first 4 columns of the mask to a larger matrix\n",
    "\n",
    "first = True\n",
    "H=[]\n",
    "\n",
    "for i in range(M//2):\n",
    "    k = 2*i*N   \n",
    "    for j in range(N//2):\n",
    "        if first:\n",
    "            H = Mtx_temp\n",
    "            first = False\n",
    "        else:\n",
    "            H = np.hstack((H, np.roll(Mtx_temp, k+2*j, axis=0)))\n",
    "            \n",
    "plt.figure()\n",
    "plt.title(\"Masking Matrix for 6x8 image\")\n",
    "plt.imshow(H, cmap='gray', interpolation='nearest')\n",
    "plt.show()"
   ]
  },
  {
   "cell_type": "markdown",
   "metadata": {},
   "source": [
    "**<span style=\"color:red\">\n",
    "What must be true about the above image to ensure that we scan every pixel at least once?</span>** "
   ]
  },
  {
   "cell_type": "markdown",
   "metadata": {},
   "source": [
    "Independent columns."
   ]
  },
  {
   "cell_type": "markdown",
   "metadata": {},
   "source": [
    "Because our pictures will be fairly large, we want each individual mask to have dimensions 30x40 to match the 3:4 aspect ratio of the projector. \n",
    "\n",
    "**<span style=\"color:red\">\n",
    "Create a matrix H that could be used to scan a 30x40 image.</span>**"
   ]
  },
  {
   "cell_type": "code",
   "execution_count": 12,
   "metadata": {
    "collapsed": false
   },
   "outputs": [
    {
     "data": {
      "image/png": "[encoded data removed]",
      "text/plain": [
       "<matplotlib.figure.Figure at 0x11341ea58>"
      ]
     },
     "metadata": {},
     "output_type": "display_data"
    }
   ],
   "source": [
    "M = 30\n",
    "N = 40\n",
    "\n",
    "# TODO: Create a matrix, Mtx_temp, which encodes just the first 4 scans of an MxN image.\n",
    "Mtx_temp=np.zeros((M*N,4))\n",
    "\n",
    "#first mask\n",
    "Mtx_temp[0,0] = 1\n",
    "Mtx_temp[1,0] = 1\n",
    "Mtx_temp[N,0] = 1\n",
    "\n",
    "#second mask\n",
    "Mtx_temp[0,1] = 1\n",
    "Mtx_temp[N+1,1] = 1\n",
    "\n",
    "#third mask\n",
    "Mtx_temp[1,2] = 1\n",
    "Mtx_temp[N+1,2] = 1\n",
    "\n",
    "#fourth mask\n",
    "Mtx_temp[N,3] = 1\n",
    "Mtx_temp[N+1,3] = 1\n",
    "\n",
    "# Creates the matrix H by extending the (M*N)x4 mask to a larger matrix. Read through this code and try to understand it!\n",
    "first = True\n",
    "H=[]\n",
    "for i in range(M//2):\n",
    "    k=i*2*N\n",
    "    for j in range(N//2):\n",
    "        if first:\n",
    "            H = Mtx_temp\n",
    "            first = False\n",
    "        else:\n",
    "            H = np.hstack((H, np.roll(Mtx_temp, k+2*j, axis=0)))\n",
    "       \n",
    "    \n",
    "# Change this variable if you want to look at more or fewer rows and columns of H\n",
    "num_rows_to_plot = M*N\n",
    "\n",
    "plt.figure(figsize=(10,10))\n",
    "plt.imshow(H[0:num_rows_to_plot,0:num_rows_to_plot], cmap='gray', interpolation='nearest')\n",
    "            \n",
    "# Save the mask for use with the simulator and projector\n",
    "np.save(\"imaging_mask.npy\", H)\n",
    "plt.show()"
   ]
  },
  {
   "cell_type": "markdown",
   "metadata": {},
   "source": [
    "<a id='task3'></a>\n",
    "## <span style=\"color:blue\">Task 3: Imaging Simulator</span>\n",
    "\n",
    "Let's take a brief detour before we start taking pictures. Many of you noticed during Imaging Lab 2 that when the projector is displaying black, there is still a lot of light inside the box. This is a limitation of the projector, and it greatly affects our image quality. \n",
    "\n",
    "The following code runs an imaging simulator, simulate_capture.py. This script uses the `imaging_mask.npy` file (just as capture_image.py does), so make sure you've saved that file in the blocks of code above. The script (digitally) performs the same operations that occur inside the box; however, we can control how much background light there is by changing the <span style=\"color:red\">\"Offset = 0\"</span> line. **<span style=\"color:red\">Start by running the code with an offset of 0, and see what happens.** The image that we will be \"scanning\" is this playing card:\n",
    "\n",
    "<img src=\"http://inst.eecs.berkeley.edu/~ee16a/images/imaging_img/phantom.jpg\" align=\"center\" style=\"height:200px\" />\n",
    "\n",
    "Does the image resulting from the simulation look ok?\n",
    "\n",
    "**<span style=\"color:red\">\n",
    "Now try increasing the offset to 1000. This is representative of what you might see in the lab when you take a scan. Try to get rid of this effect by modifying sr before you reconstruct iv in the code below.**\n",
    "\n",
    "Use what you have learned from this simulator to make your physical card scans better. "
   ]
  },
  {
   "cell_type": "code",
   "execution_count": null,
   "metadata": {
    "collapsed": false,
    "scrolled": true
   },
   "outputs": [],
   "source": [
    "# Change this Offset variable to add a background signal to your image simulation\n",
    "\n",
    "%run simulate_capture.py \"Offset = 0\" # To change the offset amount, just change the number, do not change any other part of the text\n",
    "\n",
    "sr = np.load('sim_output.npy')\n",
    "print(\"Raw sensor readings:\")\n",
    "print(sr)\n",
    "\n",
    "# TODO: First, observe what happens with different offsets.\n",
    "# Next, try correcting for the artifacts that appear when the offset is high. \n",
    "# Hint: Think of a way we can model ambient light and try subtracting this model from sr.\n",
    "sr = sr \n",
    "\n",
    "# TODO: how do we recover iv from sr and H? \n",
    "iv = np.dot(sr,inv(H)) # YOUR CODE HERE\n",
    "\n",
    "# Contrast code\n",
    "m = mean(iv)\n",
    "s = std(iv)\n",
    "\n",
    "if s< 20:\n",
    "    s = 20\n",
    "\n",
    "# Display the result\n",
    "plt.figure(figsize=(6,10))\n",
    "plt.imshow(np.reshape(iv,(30,40)), cmap='gray', vmin = m - s, vmax = m + s, interpolation='nearest')\n",
    "# plt.imshow(np.reshape(iv,(30,40)), cmap='gray', interpolation='nearest')"
   ]
  },
  {
   "cell_type": "markdown",
   "metadata": {},
   "source": [
    "<a id='task4'></a>\n",
    "## <span style=\"color:blue\">Task 4: Real Imaging</span>\n",
    "\n",
    "Finally, we will use our matrix to create a real picture."
   ]
  },
  {
   "cell_type": "markdown",
   "metadata": {},
   "source": [
    "From the command line (in the current directory), run\n",
    "\n",
    "`python capture_image.py -f 40`\n",
    "\n",
    "The script projects patterns based on the masks you designed, `imaging_mask.npy`. The sensor readings will then be saved into an array named `sensor_readings.npy`."
   ]
  },
  {
   "cell_type": "markdown",
   "metadata": {},
   "source": [
    "**<span style=\"color:red\">\n",
    "Recreate the image vector from the sensor readings. Remember, you cannot just use the reshape command this time!\n",
    "</span>**\n",
    "<br/>\n",
    "Hint: Think back to the representation of the imaging system as taking a matrix-vector product. How can we reconstruct the original image?"
   ]
  },
  {
   "cell_type": "code",
   "execution_count": null,
   "metadata": {
    "collapsed": false
   },
   "outputs": [],
   "source": [
    "# WARNING!! If you run multiple scans (by pressing enter at the end of a scan) the sensor_readings0.npy file \n",
    "# will increment to sensor_readings1.npy, sensor_readings2.npy etc Make sure you read in the correct file. \n",
    "sr = np.load('data/sensor_readings0.npy')#[30*40:]\n",
    "\n",
    "sr = sr - sr.min() # Modify sr using a model for ambient light (see Task 3)\n",
    "\n",
    "# TODO: Create the image vector from H and sr\n",
    "iv = np.dot(sr,inv(H)) # YOUR CODE HERE\n",
    "\n",
    "# Contrast code\n",
    "m = median(iv)\n",
    "s = std(iv)\n",
    "\n",
    "if s< 20:\n",
    "    s = 20\n",
    "\n",
    "# Display the result\n",
    "plt.figure(figsize=(6,8))\n",
    "plt.imshow(np.reshape(iv,(30,40)), cmap='gray', vmin = m - s, vmax = m + s, interpolation='nearest')"
   ]
  },
  {
   "cell_type": "markdown",
   "metadata": {},
   "source": [
    "**<span style=\"color:red\">How does your image look? Is it the output you expected? Use the results of your simulation experiments to modify the sensor readings vector, sr, to get rid of / weaken any unwanted artifacts.</span>**"
   ]
  },
  {
   "cell_type": "markdown",
   "metadata": {},
   "source": [
    "**<span style=\"color:red\">Explain the differences between the single-pixel and multi-pixel scans. What are the possible causes for the differences? Which scanning modality should theoretically produce better images?</span>**"
   ]
  },
  {
   "cell_type": "markdown",
   "metadata": {},
   "source": [
    "YOUR COMMENTS HERE"
   ]
  },
  {
   "cell_type": "markdown",
   "metadata": {},
   "source": [
    "Congratulations on finishing the labs for the Imaging module!!!\n",
    "\n",
    "#### You are ready to sign up for checkoff. DO NOT disassemble your circuit before checking off. Afterwards, you may take the Launchpad and circuit kit with you. <span style=\"color:red\"> DO NOT TAKE THE LIGHT SENSOR. </span>"
   ]
  }
 ],
 "metadata": {
  "anaconda-cloud": {},
  "kernelspec": {
   "display_name": "Python [Root]",
   "language": "python",
   "name": "Python [Root]"
  },
  "language_info": {
   "codemirror_mode": {
    "name": "ipython",
    "version": 3
   },
   "file_extension": ".py",
   "mimetype": "text/x-python",
   "name": "python",
   "nbconvert_exporter": "python",
   "pygments_lexer": "ipython3",
   "version": "3.5.2"
  }
 },
 "nbformat": 4,
 "nbformat_minor": 0
}
